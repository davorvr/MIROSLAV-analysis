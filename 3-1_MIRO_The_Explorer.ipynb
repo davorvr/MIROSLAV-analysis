{
 "cells": [
  {
   "cell_type": "markdown",
   "id": "9a40d1c4",
   "metadata": {},
   "source": [
    "# MIRO The Explorer"
   ]
  },
  {
   "cell_type": "markdown",
   "id": "c8ccea16",
   "metadata": {},
   "source": [
    "The objective of MIRO The Explorer is to provide an initial look into the parameters describing a 24-hour sine wave:\n",
    "\n",
    "-   **MESOR** - Mean activity over a 24-hour period,\n",
    "-   **Amplitude** - Value of peak activity relative to the day’s mean, difference between minimum and maximum activity (2\\*amplitude),\n",
    "-   **Phase shift** - Shift of a sinusoid's peak from the origin on the x-axis (time).\n",
    "\n",
    "The script will generate a plot showing how these parameters change over time across the experiment's treatment groups, of which there are two in our example.\n",
    "\n",
    "If you are running MIRO The Explorer via Google Colab, MIRO The Explorer will autodetect and set up the Colab environment in the following cell, and pull example data from the [MIROSLAV toolkit GitHub repository](https://github.com/davorvr/MIROSLAV-analysis).\n",
    "\n",
    "If you want to run MIRO The Explorer in Google Colab *and* with your own data, you can upload it using the File Browser in the sidebar on the left after running the following cell."
   ]
  },
  {
   "cell_type": "code",
   "execution_count": 14,
   "id": "78ce1b3b",
   "metadata": {
    "vscode": {
     "languageId": "r"
    }
   },
   "outputs": [
    {
     "name": "stderr",
     "output_type": "stream",
     "text": [
      "Warning message in system(\"pip list | grep -F google-colab\"):\n",
      "\"'pip' not found\"\n"
     ]
    }
   ],
   "source": [
    "is_colab <- system(\"pip list | grep -F google-colab\")\n",
    "if (is_colab == 0) {\n",
    "  install.packages(c(\"dplyr\", \"lubridate\", \"ggplot2\", \"patchwork\"))\n",
    "  dir.create(file.path(wd, \"2_outputs_tidy\"), showWarnings = FALSE)\n",
    "  dir.create(file.path(wd, \"3_outputs_R\"), showWarnings = FALSE)\n",
    "  system(\"wget -P 2_outputs_tidy https://github.com/davorvr/MIROSLAV-analysis/blob/main/2_outputs_tidy/mph-pir-tidy-source1minute-resampled5minutes.parquet\")\n",
    "  system(\"wget -P 3_outputs_R https://github.com/davorvr/MIROSLAV-analysis/raw/main/3_outputs_R/mph_sine_data.rds\")\n",
    "  system(\"wget -P 3_outputs_R https://github.com/davorvr/MIROSLAV-analysis/raw/main/3_outputs_R/mph_sine_models.rds\")\n",
    "}"
   ]
  },
  {
   "cell_type": "markdown",
   "id": "d37826d3",
   "metadata": {},
   "source": [
    "\n",
    "## Requirements\n",
    "\n",
    "First, we import the libraries we will require."
   ]
  },
  {
   "cell_type": "code",
   "execution_count": 15,
   "id": "99eb8b93",
   "metadata": {
    "message": false,
    "name": "imports",
    "vscode": {
     "languageId": "r"
    }
   },
   "outputs": [],
   "source": [
    "library(dplyr)\n",
    "library(lubridate)\n",
    "library(ggplot2)\n",
    "library(patchwork)"
   ]
  },
  {
   "cell_type": "markdown",
   "id": "888f7579",
   "metadata": {},
   "source": [
    "Then, we define useful functions, in this case only one: it will convert a date and time into the integer number of days since the specified start of an experiment."
   ]
  },
  {
   "cell_type": "code",
   "execution_count": 16,
   "id": "dc1f67f4",
   "metadata": {
    "message": false,
    "name": "functions",
    "vscode": {
     "languageId": "r"
    }
   },
   "outputs": [],
   "source": [
    "timestamp_to_nday <- function(dt, start=exp_start) {\n",
    "  # Turn timestamps into a decimal number of days since start.\n",
    "  # It's easier to mark events on plots using decimal numbers than timestamps.\n",
    "  delta_days <- interval(start, dt) %>% as.numeric(\"days\")\n",
    "  return(delta_days)\n",
    "}"
   ]
  },
  {
   "cell_type": "markdown",
   "id": "28d513f6",
   "metadata": {},
   "source": [
    "## Import data\n",
    "\n",
    "We import the data we will be working on. We need to define:\n",
    "\n",
    "-   The name of the experiment we want to process\n",
    "-   The filename of the TidySLAV output file we've originally used with MIROSine\n",
    "-   The filename of the MIROSine output\n",
    "-   The experiment's start and end times (as we've specified them to MIROSine)."
   ]
  },
  {
   "cell_type": "code",
   "execution_count": 17,
   "id": "9f3ee560",
   "metadata": {
    "name": "experiment_variables",
    "vscode": {
     "languageId": "r"
    }
   },
   "outputs": [],
   "source": [
    "exp_name <- \"mph\"\n",
    "tidydata_filename <- paste0(exp_name, \"-pir-tidy-source1minute-resampled5minutes.parquet\")\n",
    "sinedata_filename <- paste0(exp_name, \"_sine_data.rds\")\n",
    "exp_start <- as_datetime(\"2022-05-07 05:46:00\")\n",
    "exp_end <- as_datetime(\"2022-05-31 17:46:00\")"
   ]
  },
  {
   "cell_type": "markdown",
   "id": "314617c5",
   "metadata": {},
   "source": [
    "Then, we load TidySLAV data, followed by MIROSine data."
   ]
  },
  {
   "cell_type": "code",
   "execution_count": 18,
   "id": "e30e9846",
   "metadata": {
    "name": "import_tidydata",
    "tags": [
     "remove_input"
    ],
    "vscode": {
     "languageId": "r"
    }
   },
   "outputs": [],
   "source": [
    "wd <- paste0(getwd(), \"/\")\n",
    "data <- arrow::read_parquet(paste0(wd, \"2_outputs_tidy/\", tidydata_filename))\n",
    "data$ts_recv <- as_datetime(data$ts_recv, tz=\"UTC\")\n",
    "data <- data %>% filter(ts_recv >= as_datetime(exp_start, tz=\"UTC\"))\n",
    "data <- data %>% filter(ts_recv < as_datetime(exp_end, tz=\"UTC\"))\n",
    "data$hourcount <- difftime(data$ts_recv, min(data$ts_recv), units=\"hours\")\n",
    "data$hourcount <- as.numeric(data$hourcount)\n",
    "data$n_day <- data$hourcount %/% 24\n",
    "day_start_decimal <- 5+46/60\n",
    "treatments <- unique(data$treatment)"
   ]
  },
  {
   "cell_type": "code",
   "execution_count": 19,
   "id": "72d068bd",
   "metadata": {
    "name": "import_sinedata",
    "tags": [
     "remove_input"
    ],
    "vscode": {
     "languageId": "r"
    }
   },
   "outputs": [],
   "source": [
    "sine_data.file <- paste0(wd, \"3_outputs_R/\", sinedata_filename)\n",
    "if (!exists(\"sine_data\"))  {\n",
    "  if (file.exists(sine_data.file)) {\n",
    "    sine_data <- readRDS(sine_data.file)\n",
    "  } else {\n",
    "    stop(\"Sine data not found. Either run Section 2 of this script to generate it or check the path in sine_data.file to load from file.\")\n",
    "  }\n",
    "}\n",
    "sine_data$date <- as.numeric(sine_data$date)+ymd(\"1970-01-01\")\n",
    "sine_data$date <- as.factor(sine_data$date)\n",
    "sine_data$treatment <- as.factor(sine_data$treatment)"
   ]
  },
  {
   "cell_type": "markdown",
   "id": "4ac92d69",
   "metadata": {},
   "source": [
    "## Specifying interesting events\n",
    "\n",
    "We define variables which tell us when some interesting stuff happened:\n",
    "\n",
    "-   Point events\n",
    "-   Administration of intracerebroventricular streptozotocin, used to generate the sporadic Alzheimer's disease model in this example experiment\n",
    "-   Weighing and bedding change, which ocurred weekly.\n",
    "-   Time intervals\n",
    "-   Behavioural testing\n",
    "\n",
    "### Point events\n",
    "\n",
    "Sporadic AD model induction with streptozotocin (STZ):"
   ]
  },
  {
   "cell_type": "code",
   "execution_count": 20,
   "id": "042956ea",
   "metadata": {
    "name": "events_stz",
    "vscode": {
     "languageId": "r"
    }
   },
   "outputs": [],
   "source": [
    "ts_stz <- list(stz_injection_1 = as_datetime(\"2022-05-11T10:00:00\"),\n",
    "               stz_injection_2 = as_datetime(\"2022-05-13T10:00:00\"))\n",
    "ts_stz <- lapply(ts_stz, timestamp_to_nday)"
   ]
  },
  {
   "cell_type": "markdown",
   "id": "540593b5",
   "metadata": {},
   "source": [
    "Weekly weighing and bedding change (labeled on the x-axis, but we'll draw them as boxes that will cover the whole vertical range, hence the infinite ymin and ymax):"
   ]
  },
  {
   "cell_type": "code",
   "execution_count": 21,
   "id": "3ffad4bc",
   "metadata": {
    "name": "events_weighing",
    "vscode": {
     "languageId": "r"
    }
   },
   "outputs": [],
   "source": [
    "ts_weighing <- data.frame(xmin = c(as_datetime(\"2022-05-10T08:00:00\"), as_datetime(\"2022-05-18T08:00:00\"), as_datetime(\"2022-05-25T08:00:00\")),\n",
    "                          xmax = c(as_datetime(\"2022-05-10T12:00:00\"), as_datetime(\"2022-05-18T12:00:00\"), as_datetime(\"2022-05-25T12:00:00\")))\n",
    "ts_weighing$xmin <- interval(exp_start, ts_weighing$xmin) %>% as.numeric(\"days\")\n",
    "ts_weighing$xmax <- interval(exp_start, ts_weighing$xmax) %>% as.numeric(\"days\")\n",
    "ts_weighing$ymin <- -Inf\n",
    "ts_weighing$ymax <- Inf"
   ]
  },
  {
   "cell_type": "markdown",
   "id": "2f864371",
   "metadata": {},
   "source": [
    "Behavioural testing:"
   ]
  },
  {
   "cell_type": "code",
   "execution_count": 22,
   "id": "bd36e42b",
   "metadata": {
    "name": "events_behaviour",
    "vscode": {
     "languageId": "r"
    }
   },
   "outputs": [],
   "source": [
    "ts_beh <- data.frame(xmin = c(as_datetime(\"2022-05-23T14:00:00\")),\n",
    "                     xmax = c(as_datetime(\"2022-05-26T23:00:00\")))\n",
    "ts_beh$xmin <- interval(exp_start, ts_beh$xmin) %>% as.numeric(\"days\")\n",
    "ts_beh$xmax <- interval(exp_start, ts_beh$xmax) %>% as.numeric(\"days\")\n",
    "ts_beh$ymin <- -Inf\n",
    "ts_beh$ymax <- Inf"
   ]
  },
  {
   "cell_type": "markdown",
   "id": "f7747242",
   "metadata": {},
   "source": [
    "## Prepare data to plot\n",
    "\n",
    "We then calculate the mean, median, and standard deviation of the MESOR, amplitude, and phase for each treatment group and day. We will use these parameters to reconstruct group sine waves and plot estimates for each day."
   ]
  },
  {
   "cell_type": "code",
   "execution_count": 23,
   "id": "aff7689b",
   "metadata": {
    "class.source": "fold-hide",
    "message": false,
    "name": "prepare_data",
    "tags": [
     "remove_input"
    ],
    "vscode": {
     "languageId": "r"
    },
    "warning": false
   },
   "outputs": [
    {
     "name": "stderr",
     "output_type": "stream",
     "text": [
      "\u001b[1m\u001b[22m`summarise()` has grouped output by 'n_day'. You can override using the\n",
      "`.groups` argument.\n"
     ]
    }
   ],
   "source": [
    "mean_trim_factor <- 0.05\n",
    "sine_data.summary <- sine_data %>%\n",
    "  group_by(n_day, treatment) %>%\n",
    "  summarise(mesor.mean = mean(mesor, trim=mean_trim_factor), mesor.median = median(mesor), mesor.sd = sd(mesor),\n",
    "            amplitude.mean = mean(amplitude, trim=mean_trim_factor), amplitude.median = median(amplitude), amplitude.sd = sd(amplitude),\n",
    "            phase.mean = mean(phase, trim=mean_trim_factor), phase.median = median(phase), phase.sd = sd(phase)) \n",
    "sine_data.summary$peak_hour.mean <- 6-(sine_data.summary$phase.mean*(24/(2*pi)))\n",
    "sine_data.summary$peak_hour.median <- 6-(sine_data.summary$phase.median*(24/(2*pi)))\n",
    "sine_data.summary$peak_hour.sd <- sd(sine_data.summary$peak_hour.mean)\n",
    "sine_data.summary <- sine_data.summary %>% \n",
    "  mutate(peak_hour = case_when(peak_hour.mean < 0 ~ 24 + peak_hour.mean,\n",
    "                               .default = peak_hour.mean))\n",
    "sine_data.summary <- sine_data.summary %>% \n",
    "  mutate(peak_hour = case_when(peak_hour.median < 0 ~ 24 + peak_hour.median,\n",
    "                               .default = peak_hour.median))\n",
    "\n",
    "sine_data.plot_data <- data.frame(treatment=c(),\n",
    "                                  n_day=c(),\n",
    "                                  x_day=c(),\n",
    "                                  pred_val=c())\n",
    "\n",
    "for (day in unique(sine_data.summary$n_day)) {\n",
    "  for (tr in treatments) {\n",
    "    #    vals <- sine_data.summary %>% filter(n_day == day) %>% filter(treatment == tr)\n",
    "    #    peak_hour <- 6-(vals$phase_mean*(24/(2*pi)))\n",
    "    #    if (peak_hour < 0) { peak_hour <- 24+peak_hour }\n",
    "    df_slice <- sine_data.summary %>% filter(treatment == tr, n_day == day)\n",
    "    amplitude <- df_slice$amplitude.median\n",
    "    mesor <- df_slice$mesor.median\n",
    "    phase <- df_slice$phase.median\n",
    "    \n",
    "    hour <- seq(0,23,1)+24*day\n",
    "    day_seq <- seq(0,0.9,0.1)+day\n",
    "    #pred_val <- mesor+amplitude*sin(2*pi*((24*day+hour)/24)+phase)\n",
    "    pred_val <- mesor+amplitude*sin(2*pi*day_seq+phase)\n",
    "    new_row <- data.frame(treatment=tr,\n",
    "                          n_day=day,\n",
    "                          x_day=day_seq,\n",
    "                          pred_val=pred_val)\n",
    "    sine_data.plot_data <- rbind(sine_data.plot_data, new_row)\n",
    "  }\n",
    "}"
   ]
  },
  {
   "cell_type": "markdown",
   "id": "5de57536",
   "metadata": {},
   "source": [
    "## Exploratory plots\n",
    "\n",
    "### Parameter view:\n",
    "\n",
    "#### Group medians + SD over time for MESOR, amplitude, and phase\n",
    "\n",
    "We plot the group medians and standard deviations of MESOR, amplitude, and phase, for each group, over time. We can also use the mean by changing the `plot_statistic` variable. We can use other parameters as well if we calculate them in the preparation step."
   ]
  },
  {
   "cell_type": "code",
   "execution_count": 24,
   "id": "9286632d",
   "metadata": {
    "name": "plot_stats_params",
    "vscode": {
     "languageId": "r"
    }
   },
   "outputs": [],
   "source": [
    "# Controls lines and rectangles marking periods of interest\n",
    "rect_width <- 1\n",
    "alpha_weighing <- 0.6\n",
    "alpha_stz <- 1\n",
    "stz_linewidth <- 0.3\n",
    "alpha_behaviour <- 0.4\n",
    "\n",
    "# Controls how far apart the treatment points and error lines are\n",
    "dodge_width <- 0.6\n",
    "\n",
    "# Summary statistic to plot, by default, Section 4. generated means and medians.\n",
    "# Medians are more robust to outliers. More summary statistics can be generated\n",
    "# in section 4. as needed.\n",
    "plot_statistic <- \"median\" # \"mean\" or \"median\" "
   ]
  },
  {
   "cell_type": "code",
   "execution_count": 25,
   "id": "94fcae5f",
   "metadata": {
    "class.source": "fold-hide",
    "fig.height": 6,
    "fig.width": 10,
    "message": false,
    "name": "plot_stats",
    "tags": [
     "remove_input"
    ],
    "vscode": {
     "languageId": "r"
    },
    "warning": false
   },
   "outputs": [
    {
     "data": {
      "image/png": "[encoded data removed]",
      "text/plain": [
       "plot without title"
      ]
     },
     "metadata": {
      "image/png": {
       "height": 420,
       "width": 420
      }
     },
     "output_type": "display_data"
    }
   ],
   "source": [
    "# Mesor - mean of activity levels in one day\n",
    "p.mesor <- ggplot(sine_data.summary, aes(x=n_day, y=mesor.mean, group=interaction(n_day, treatment), color=treatment))+\n",
    "  scale_color_discrete(labels=c(\"Control\", \"STZ-icv\"))+\n",
    "  scale_x_continuous(\"Day\", breaks = seq(0,70,7), limits=c(min(sine_data.summary$n_day)-1,max(sine_data.summary$n_day)+1))+\n",
    "  geom_rect(data = ts_beh, inherit.aes=FALSE,\n",
    "            aes(xmin = floor(xmin)-rect_width/2, xmax = floor(xmax)+rect_width/2, ymin = ymin, ymax = ymax),\n",
    "            fill = \"pink\", alpha=alpha_behaviour)+\n",
    "  geom_rect(data = ts_weighing, inherit.aes=FALSE,\n",
    "            aes(xmin = floor(xmin)-rect_width/2, xmax = floor(xmax)+rect_width/2, ymin = ymin, ymax = ymax),\n",
    "            fill = \"gray\", alpha=alpha_weighing)+\n",
    "  geom_vline(xintercept = floor(ts_stz$stz_injection_1), color = \"black\", alpha = alpha_stz, linewidth=stz_linewidth)+\n",
    "  geom_vline(xintercept = floor(ts_stz$stz_injection_2), color = \"black\", alpha = alpha_stz, linewidth=stz_linewidth)+\n",
    "  geom_point(position=position_dodge(width=dodge_width))+\n",
    "  geom_errorbar(position=position_dodge(width=dodge_width),\n",
    "                aes(y=mesor.mean,\n",
    "                    ymin=mesor.mean-mesor.sd,\n",
    "                    ymax=mesor.mean+mesor.sd),\n",
    "                width=0.1)+\n",
    "  theme_minimal()+\n",
    "  theme(legend.title=element_blank(),\n",
    "        legend.position=\"top\",\n",
    "        legend.justification=\"left\")+\n",
    "  ylab(paste(\"MESOR\", plot_statistic))\n",
    "\n",
    "# Amplitude - difference between mesor and peak activity\n",
    "p.amp <- ggplot(sine_data.summary, aes(x=n_day, y=amplitude.mean, group=interaction(n_day, treatment), color=treatment))+\n",
    "  scale_color_discrete(labels=c(\"Control\", \"STZ-icv\"))+\n",
    "  scale_x_continuous(\"Day\", breaks = seq(0,70,7), limits=c(min(sine_data.summary$n_day)-1,max(sine_data.summary$n_day)+1))+\n",
    "  geom_rect(data = ts_beh, inherit.aes=FALSE,\n",
    "            aes(xmin = floor(xmin)-rect_width/2, xmax = floor(xmax)+rect_width/2, ymin = ymin, ymax = ymax),\n",
    "            fill = \"pink\", alpha=alpha_behaviour)+\n",
    "  geom_rect(data = ts_weighing, inherit.aes=FALSE,\n",
    "            aes(xmin = floor(xmin)-rect_width/2, xmax = floor(xmax)+rect_width/2, ymin = ymin, ymax = ymax),\n",
    "            fill = \"gray\", alpha=alpha_weighing)+\n",
    "  geom_vline(xintercept = floor(ts_stz$stz_injection_1), color = \"black\", alpha = alpha_stz, linewidth=stz_linewidth)+\n",
    "  geom_vline(xintercept = floor(ts_stz$stz_injection_2), color = \"black\", alpha = alpha_stz, linewidth=stz_linewidth)+\n",
    "  geom_point(position=position_dodge(width=dodge_width))+\n",
    "  geom_errorbar(position=position_dodge(width=dodge_width),\n",
    "                aes(y=amplitude.mean,\n",
    "                    ymin=amplitude.mean-amplitude.sd,\n",
    "                    ymax=amplitude.mean+amplitude.sd),\n",
    "                width=0.1)+\n",
    "  theme_minimal()+\n",
    "  theme(legend.title=element_blank(),\n",
    "        legend.position=\"top\",\n",
    "        legend.justification=\"left\")+\n",
    "  ylab(paste(\"Amplitude\", plot_statistic))\n",
    "\n",
    "# Phase shift in radians\n",
    "p.phase <- ggplot(sine_data.summary, aes(x=n_day, y=peak_hour.mean, group=interaction(n_day, treatment), color=treatment))+\n",
    "  scale_color_discrete(labels=c(\"Control\", \"STZ-icv\"))+\n",
    "  scale_x_continuous(\"Day\", breaks = seq(0,70,7), limits=c(min(sine_data.summary$n_day)-1,max(sine_data.summary$n_day)+1))+\n",
    "  geom_rect(data = ts_beh, inherit.aes=FALSE,\n",
    "            aes(xmin = floor(xmin)-rect_width/2, xmax = floor(xmax)+rect_width/2, ymin = ymin, ymax = ymax),\n",
    "            fill = \"pink\", alpha=alpha_behaviour)+\n",
    "  geom_rect(data = ts_weighing, inherit.aes=FALSE,\n",
    "            aes(xmin = floor(xmin)-rect_width/2, xmax = floor(xmax)+rect_width/2, ymin = ymin, ymax = ymax),\n",
    "            fill = \"gray\", alpha=alpha_weighing)+\n",
    "  geom_vline(xintercept = floor(ts_stz$stz_injection_1), color = \"black\", alpha = alpha_stz, linewidth=stz_linewidth)+\n",
    "  geom_vline(xintercept = floor(ts_stz$stz_injection_2), color = \"black\", alpha = alpha_stz, linewidth=stz_linewidth)+\n",
    "  geom_point(position=position_dodge(width=dodge_width))+\n",
    "  geom_errorbar(position=position_dodge(width=dodge_width),\n",
    "                aes(y=peak_hour.mean,\n",
    "                    ymin=peak_hour.mean-peak_hour.sd,\n",
    "                    ymax=peak_hour.mean+peak_hour.sd),\n",
    "                width=0.1)+\n",
    "  theme_minimal()+\n",
    "  theme(legend.title=element_blank(),\n",
    "        legend.position=\"top\",\n",
    "        legend.justification=\"left\")+\n",
    "  ylab(paste(\"Peak hour\", plot_statistic))\n",
    "\n",
    "# Use patchwork to draw plots of the three parameters one below the other\n",
    "p.mesor / p.amp / p.phase +\n",
    "  plot_annotation(title=\"             Parameter view\") +\n",
    "  plot_layout(guides=\"collect\", axes=\"collect\") &\n",
    "  theme(legend.title=element_blank(),\n",
    "        legend.position=\"top\",\n",
    "        legend.justification=\"left\",\n",
    "        legend.margin=margin(c(0,0,0,0)),\n",
    "        legend.spacing.x = unit(0, \"mm\"), legend.spacing.y = unit(0, \"mm\"),\n",
    "        legend.box.margin=margin(-10,0,-10,0),\n",
    "        plot.title = element_text(size = 10))\n",
    "ggsave(\"3_outputs_R/3-2_MIRO-The-Explorer_PV.png\", plot=last_plot(), width=7.55, height=5.5, dpi=600)"
   ]
  },
  {
   "cell_type": "markdown",
   "id": "cdff8323",
   "metadata": {},
   "source": [
    "### Rhythm simulation:\n",
    "\n",
    "#### Sine-smoothed activity, per group\n",
    "\n",
    "We reconstruct the sine waves from the group medians of MESOR, amplitude, and phase, and plot them. These are some parameters that can be used to adjust the lines and rectangles describing interesting events."
   ]
  },
  {
   "cell_type": "code",
   "execution_count": 26,
   "id": "7e02d12e",
   "metadata": {
    "name": "plot_sine_params",
    "vscode": {
     "languageId": "r"
    }
   },
   "outputs": [],
   "source": [
    "rect_width <- 1\n",
    "alpha_weighing <- 0.6\n",
    "alpha_stz <- 1\n",
    "stz_linewidth <- 0.3\n",
    "alpha_behaviour <- 0.4"
   ]
  },
  {
   "cell_type": "code",
   "execution_count": 27,
   "id": "4532943f",
   "metadata": {
    "class.source": "fold-hide",
    "fig.height": 2,
    "fig.width": 10,
    "message": false,
    "name": "plot_sine",
    "tags": [
     "remove_input"
    ],
    "vscode": {
     "languageId": "r"
    },
    "warning": false
   },
   "outputs": [
    {
     "name": "stderr",
     "output_type": "stream",
     "text": [
      "\u001b[1m\u001b[22m`geom_smooth()` using method = 'loess' and formula = 'y ~ x'\n",
      "Warning message in simpleLoess(y, x, w, span, degree = degree, parametric = parametric, :\n",
      "\"k-d tree limited by memory. ncmax= 250\"\n",
      "Warning message in simpleLoess(y, x, w, span, degree = degree, parametric = parametric, :\n",
      "\"k-d tree limited by memory. ncmax= 250\"\n",
      "\u001b[1m\u001b[22m`geom_smooth()` using method = 'loess' and formula = 'y ~ x'\n",
      "Warning message in simpleLoess(y, x, w, span, degree = degree, parametric = parametric, :\n",
      "\"k-d tree limited by memory. ncmax= 250\"\n",
      "Warning message in simpleLoess(y, x, w, span, degree = degree, parametric = parametric, :\n",
      "\"k-d tree limited by memory. ncmax= 250\"\n"
     ]
    },
    {
     "data": {
      "image/png": "[encoded data removed]",
      "text/plain": [
       "plot without title"
      ]
     },
     "metadata": {
      "image/png": {
       "height": 420,
       "width": 420
      }
     },
     "output_type": "display_data"
    }
   ],
   "source": [
    "sine_plot <- ggplot(sine_data.plot_data, aes(x=x_day, y=pred_val, color=treatment))+\n",
    "  scale_x_continuous(\"Day\", breaks = seq(0,25,1))+#, limits=c(min(sine_data.summary$n_day)-1,max(sine_data.summary$n_day)+1))+\n",
    "  scale_color_discrete(labels=c(\"Control\", \"STZ-icv\"))+\n",
    "  geom_rect(data = ts_beh, inherit.aes=FALSE,\n",
    "            aes(xmin = xmin, xmax = xmax, ymin = ymin, ymax = ymax),\n",
    "            fill = \"pink\", alpha=alpha_behaviour)+\n",
    "  geom_rect(data = ts_weighing, inherit.aes=FALSE,\n",
    "            aes(xmin = xmin, xmax = xmax, ymin = ymin, ymax = ymax),\n",
    "            fill = \"gray\", alpha=alpha_weighing)+\n",
    "  geom_vline(xintercept = (ts_stz$stz_injection_1), color = \"black\", alpha = alpha_stz, linewidth=stz_linewidth)+\n",
    "  geom_vline(xintercept = (ts_stz$stz_injection_2), color = \"black\", alpha = alpha_stz, linewidth=stz_linewidth)+\n",
    "  #geom_line(linewidth=0.8)+\n",
    "  geom_smooth(se = F, span=0.04, n=2400, linewidth=0.7)+\n",
    "#  geom_point(position=position_dodge(width=0.5))+\n",
    "#  geom_errorbar(position=position_dodge(width=0.5),\n",
    "#                aes(y=mesor.mean,\n",
    "#                    ymin=mesor.mean-mesor.sd,\n",
    "#                    ymax=mesor.mean+mesor.sd),\n",
    "#                width=0.1)+\n",
    "  theme_minimal()+\n",
    "  theme(plot.title = element_text(size = 10),\n",
    "        panel.grid.major.y = element_blank(),\n",
    "        panel.grid.minor.y = element_blank(),\n",
    "        legend.position=\"top\",\n",
    "        legend.justification=\"left\",\n",
    "        legend.title=element_blank(),\n",
    "        legend.margin=margin(c(0,0,0,0)),\n",
    "        legend.spacing.x = unit(0, \"mm\"),\n",
    "        legend.spacing.y = unit(0, \"mm\"),\n",
    "        legend.box.margin=margin(-5,0,-7,0),\n",
    "        plot.margin = unit(c(0,0,0,0), \"mm\"))+\n",
    "  ggtitle(\"Rhythm simulation\")+\n",
    "  ylab(\"\")\n",
    "plot(sine_plot)\n",
    "ggsave(\"3_outputs_R/3-2_MIRO-The-Explorer_RS.png\", plot=sine_plot, width=7.55, height=2, dpi=600)"
   ]
  }
 ],
 "metadata": {
  "jupytext": {
   "cell_metadata_filter": "message,name,warning,fig.height,fig.width,tags,class.source,-all",
   "encoding": "# -*- coding: utf-8 -*-",
   "formats": "ipynb,R:percent",
   "main_language": "R"
  },
  "kernelspec": {
   "display_name": "R",
   "language": "R",
   "name": "ir"
  },
  "language_info": {
   "codemirror_mode": "r",
   "file_extension": ".r",
   "mimetype": "text/x-r-source",
   "name": "R",
   "pygments_lexer": "r",
   "version": "4.4.0"
  }
 },
 "nbformat": 4,
 "nbformat_minor": 5
}
