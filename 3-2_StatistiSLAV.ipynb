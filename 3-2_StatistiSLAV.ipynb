{
 "cells": [
  {
   "cell_type": "markdown",
   "id": "34c72b41",
   "metadata": {
    "vscode": {
     "languageId": "raw"
    }
   },
   "source": [
    "# StatistiSLAV"
   ]
  },
  {
   "cell_type": "markdown",
   "id": "462b4268",
   "metadata": {},
   "source": [
    "The objective of StatistiSLAV is to fit a statistical model for estimating the parameters describing a 24-hour sine wave (MESOR, amplitude, phase shift), and the respective contrasts between treatment groups, for periods of interest.\n",
    "\n",
    "If you are running StatistiSLAV via Google Colab, StatistiSLAV will autodetect and set up the Colab environment in the following cell, and pull example data from the [MIROSLAV toolkit GitHub repository](https://github.com/davorvr/MIROSLAV-analysis).\n",
    "\n",
    "If you want to run StatistiSLAV in Google Colab *and* with your own data, you can upload it using the File Browser in the sidebar on the left after running the following cell.\n"
   ]
  },
  {
   "cell_type": "code",
   "execution_count": 1,
   "id": "95aefc06",
   "metadata": {
    "vscode": {
     "languageId": "r"
    }
   },
   "outputs": [],
   "source": [
    "return_code <- suppressWarnings(system(\"pip list | grep -F google-colab\"))\n",
    "if (return_code == 0) {\n",
    "  is_colab = TRUE\n",
    "} else {\n",
    "  is_colab = FALSE\n",
    "}\n",
    "if (is_colab) {\n",
    "  system(\"wget http://archive.ubuntu.com/ubuntu/pool/main/o/openssl/libssl1.1_1.1.1f-1ubuntu2.22_amd64.deb\")\n",
    "  system(\"apt install ./libssl1.1_1.1.1f-1ubuntu2.22_amd64.deb\")\n",
    "  system(\"rm ./libssl1.1_1.1.1f-1ubuntu2.22_amd64.deb\")\n",
    "  options(\n",
    "    HTTPUserAgent =\n",
    "      sprintf(\n",
    "        \"R/%s R (%s)\",\n",
    "        getRversion(),\n",
    "        paste(getRversion(), R.version[\"platform\"], R.version[\"arch\"], R.version[\"os\"])\n",
    "      )\n",
    "  )\n",
    "  install.packages(\"arrow\", repos = \"https://packagemanager.rstudio.com/all/__linux__/focal/latest\")\n",
    "  install.packages(c(\"dplyr\", \"lubridate\", \"emmeans\", \"ggplot2\", \"patchwork\", \"glmmTMB\", \"DHARMa\"))\n",
    "  if (packageVersion(\"glmmTMB\") <= \"1.1.9\") {\n",
    "    install.packages(\"remotes\")\n",
    "    remotes::install_github(\"glmmTMB/glmmTMB/glmmTMB\")\n",
    "  }\n",
    "  wd <- paste0(getwd(), \"/\")\n",
    "  dir.create(file.path(wd, \"2_outputs_tidy\"), showWarnings = FALSE)\n",
    "  dir.create(file.path(wd, \"3_outputs_R\"), showWarnings = FALSE)\n",
    "  system(\"wget -O 2_outputs_tidy/mph-pir-tidy-source1minute-resampled5minutes.parquet https://github.com/davorvr/MIROSLAV-analysis/raw/main/2_outputs_tidy/mph-pir-tidy-source1minute-resampled5minutes.parquet\")\n",
    "  system(\"wget -O 3_outputs_R/mph_sine_data.rds https://github.com/davorvr/MIROSLAV-analysis/raw/main/3_outputs_R/mph_sine_data.rds\")\n",
    "  system(\"wget -O 3_outputs_R/mph_sine_models.rds https://github.com/davorvr/MIROSLAV-analysis/raw/main/3_outputs_R/mph_sine_models.rds\")\n",
    "}"
   ]
  },
  {
   "cell_type": "markdown",
   "id": "3af17333",
   "metadata": {},
   "source": [
    "\n",
    "## Requirements\n",
    "\n",
    "First, we import the libraries we will require."
   ]
  },
  {
   "cell_type": "code",
   "execution_count": 2,
   "id": "1046ce5a",
   "metadata": {
    "message": false,
    "name": "imports",
    "vscode": {
     "languageId": "r"
    }
   },
   "outputs": [
    {
     "name": "stderr",
     "output_type": "stream",
     "text": [
      "\n",
      "Attaching package: 'dplyr'\n",
      "\n",
      "\n",
      "The following objects are masked from 'package:stats':\n",
      "\n",
      "    filter, lag\n",
      "\n",
      "\n",
      "The following objects are masked from 'package:base':\n",
      "\n",
      "    intersect, setdiff, setequal, union\n",
      "\n",
      "\n",
      "\n",
      "Attaching package: 'lubridate'\n",
      "\n",
      "\n",
      "The following objects are masked from 'package:base':\n",
      "\n",
      "    date, intersect, setdiff, union\n",
      "\n",
      "\n",
      "This is DHARMa 0.4.6. For overview type '?DHARMa'. For recent changes, type news(package = 'DHARMa')\n",
      "\n"
     ]
    }
   ],
   "source": [
    "library(arrow)\n",
    "library(dplyr)\n",
    "library(lubridate)\n",
    "library(emmeans)\n",
    "library(ggplot2)\n",
    "library(patchwork)\n",
    "library(glmmTMB)\n",
    "library(DHARMa)"
   ]
  },
  {
   "cell_type": "markdown",
   "id": "92079fcf",
   "metadata": {},
   "source": [
    "Then, we define useful functions:\n",
    "\n",
    "-   `generate_contrasts_grid` - generates a contrast grid that tells `emmeans` to calculate contrasts between each group within each time period of interest\n",
    "-   `timestamp_to_nday` - converts timestamps to a decimal number of days since the experiment start\n",
    "-   `phase_to_todpeak` - converts a phase shift in radians to the zenith's time of day"
   ]
  },
  {
   "cell_type": "code",
   "execution_count": 3,
   "id": "e02bbad5",
   "metadata": {
    "class.source": "fold-hide",
    "message": false,
    "name": "functions",
    "vscode": {
     "languageId": "r"
    }
   },
   "outputs": [],
   "source": [
    "generate_contrast_grid <- function(model, emmeans_obj, trtcol_name, treatments, timecol_name, timeperiods) {\n",
    "  # Function to generate a grid of contrasts we're interested in\n",
    "  # that will be used by emmeans to produce them.\n",
    "  contrast.index <- list()\n",
    "  emmeans_obj.df <- as.data.frame(emmeans_obj)\n",
    "  \n",
    "  n_values <- length(timeperiods)*length(treatments)\n",
    "  for (tp in timeperiods) {\n",
    "    contrast.index[[paste0(\"day_\", tp)]] <- list()\n",
    "    for (trt in treatments) {\n",
    "      v <- c(0*(1:n_values))\n",
    "      index <- which((emmeans_obj.df[[trtcol_name]] == trt) & (emmeans_obj.df[[timecol]] == tp))\n",
    "      v[index] <- 1\n",
    "      contrast.index[[paste0(\"day_\", tp)]][[trt]] <- v\n",
    "    }\n",
    "  }\n",
    "  contrast.grid <- list()\n",
    "  for (tp in timeperiods) {\n",
    "    for (combination in combn(treatments, 2, simplify=FALSE)) {\n",
    "      contrast.grid[[paste0(\"day_\", tp, \" \", paste0(combination, collapse = \"-\"))]] <- contrast.index[[paste0(\"day_\", tp)]][[combination[2]]] - contrast.index[[paste0(\"day_\", tp)]][[combination[1]]]\n",
    "    }\n",
    "  }\n",
    "  return(contrast.grid)\n",
    "}\n",
    "\n",
    "timestamp_to_nday <- function(dt, start=exp_start) {\n",
    "  # Turn timestamps into a decimal number of days since start.\n",
    "  # It's easier to mark events on plots using decimal numbers than timestamps.\n",
    "  delta_days <- interval(start, dt) %>% as.numeric(\"days\")\n",
    "  return(delta_days)\n",
    "}\n",
    "\n",
    "phase_to_todpeak <- function(x, t_start=day_start_decimal) {\n",
    "  # Convert a phase shift in radians to a time of day of peak activity.\n",
    "  tod_peak <- (t_start + 6) - (x * (24 / (2 * pi))) + 24\n",
    "  #tod_peak<- ifelse(tod_peak < 0, 24+tod_peak, tod_peak)\n",
    "  #tod_peak <- ifelse(tod_peak > 24, tod_peak-24, tod_peak)\n",
    "  return(tod_peak)\n",
    "}"
   ]
  },
  {
   "cell_type": "markdown",
   "id": "907cf8a2",
   "metadata": {},
   "source": [
    "## Import data\n",
    "\n",
    "We import the data we will be working on. We need to define:\n",
    "\n",
    "-   The name of the experiment we want to process\n",
    "-   The filename of the TidySLAV output file we've originally used with MIROSine\n",
    "-   The filename of the MIROSine output\n",
    "-   The experiment's start and end times (as we've specified them to MIROSine).\n",
    "\n",
    "This part is the same as in MIRO The Explorer."
   ]
  },
  {
   "cell_type": "code",
   "execution_count": 4,
   "id": "a303ae03",
   "metadata": {
    "name": "experiment_variables",
    "vscode": {
     "languageId": "r"
    }
   },
   "outputs": [],
   "source": [
    "exp_name <- \"mph\"\n",
    "tidydata_filename <- paste0(exp_name, \"-pir-tidy-source1minute-resampled5minutes.parquet\")\n",
    "sinedata_filename <- paste0(exp_name, \"_sine_data.rds\")\n",
    "exp_start <- as_datetime(\"2022-05-07 05:46:00\")\n",
    "exp_end <- as_datetime(\"2022-05-31 17:46:00\")"
   ]
  },
  {
   "cell_type": "markdown",
   "id": "5a335f75",
   "metadata": {},
   "source": [
    "Then, we load TidySLAV data, followed by MIROSine data."
   ]
  },
  {
   "cell_type": "code",
   "execution_count": 5,
   "id": "2c83b2f9",
   "metadata": {
    "name": "import_tidydata",
    "tags": [
     "remove_input"
    ],
    "vscode": {
     "languageId": "r"
    }
   },
   "outputs": [],
   "source": [
    "wd <- paste0(getwd(), \"/\")\n",
    "data <- read_parquet(paste0(wd, \"2_outputs_tidy/\", tidydata_filename))\n",
    "data$ts_recv <- as_datetime(data$ts_recv, tz=\"UTC\")\n",
    "data <- data %>% filter(ts_recv >= as_datetime(exp_start, tz=\"UTC\"))\n",
    "data <- data %>% filter(ts_recv < as_datetime(exp_end, tz=\"UTC\"))\n",
    "data$hourcount <- difftime(data$ts_recv, min(data$ts_recv), units=\"hours\")\n",
    "data$hourcount <- as.numeric(data$hourcount)\n",
    "data$n_day <- data$hourcount %/% 24\n",
    "day_start_decimal <- 5+46/60\n",
    "treatments <- unique(data$treatment)"
   ]
  },
  {
   "cell_type": "code",
   "execution_count": 6,
   "id": "f291cf94",
   "metadata": {
    "name": "import_sinedata",
    "tags": [
     "remove_input"
    ],
    "vscode": {
     "languageId": "r"
    }
   },
   "outputs": [],
   "source": [
    "sine_data.file <- paste0(wd, \"3_outputs_R/\", sinedata_filename)\n",
    "if (!exists(\"sine_data\"))  {\n",
    "  if (file.exists(sine_data.file)) {\n",
    "    sine_data <- readRDS(sine_data.file)\n",
    "  } else {\n",
    "    stop(\"Sine data not found. Either run Section 2 of this script to generate it or check the path in sine_data.file to load from file.\")\n",
    "  }\n",
    "}\n",
    "sine_data$date <- as.numeric(sine_data$date)+ymd(\"1970-01-01\")\n",
    "sine_data$date <- as.factor(sine_data$date)\n",
    "sine_data$treatment <- as.factor(sine_data$treatment)\n",
    "model_data<-sine_data"
   ]
  },
  {
   "cell_type": "markdown",
   "id": "e5e07d26",
   "metadata": {},
   "source": [
    "## Specifying interesting events\n",
    "\n",
    "We define variables which tell us when some interesting stuff happened:\n",
    "\n",
    "-   Point events\n",
    "-   Administration of intracerebroventricular streptozotocin, used to generate the sporadic Alzheimer's disease model in this example experiment\n",
    "-   Weighing and bedding change, which ocurred weekly.\n",
    "-   Time intervals\n",
    "-   Behavioural testing\n",
    "\n",
    "What we define here will be used to mark these events on the plots. This works the same as in MIRO The Explorer.\n",
    "\n",
    "### Point events\n",
    "\n",
    "Sporadic AD model induction with streptozotocin (STZ):"
   ]
  },
  {
   "cell_type": "code",
   "execution_count": 7,
   "id": "b73cbf52",
   "metadata": {
    "name": "events_stz",
    "vscode": {
     "languageId": "r"
    }
   },
   "outputs": [],
   "source": [
    "ts_stz <- list(stz_injection_1 = as_datetime(\"2022-05-11T10:00:00\"),\n",
    "               stz_injection_2 = as_datetime(\"2022-05-13T10:00:00\"))\n",
    "ts_stz <- lapply(ts_stz, timestamp_to_nday)"
   ]
  },
  {
   "cell_type": "markdown",
   "id": "f8e428e4",
   "metadata": {},
   "source": [
    "Weekly weighing and bedding change (labeled on the x-axis, but we'll draw them as boxes that will cover the whole vertical range, hence the infinite ymin and ymax):"
   ]
  },
  {
   "cell_type": "code",
   "execution_count": 8,
   "id": "9bce0dbb",
   "metadata": {
    "name": "events_weighing",
    "vscode": {
     "languageId": "r"
    }
   },
   "outputs": [],
   "source": [
    "ts_weighing <- data.frame(xmin = c(as_datetime(\"2022-05-10T08:00:00\"), as_datetime(\"2022-05-18T08:00:00\"), as_datetime(\"2022-05-25T08:00:00\")),\n",
    "                          xmax = c(as_datetime(\"2022-05-10T12:00:00\"), as_datetime(\"2022-05-18T12:00:00\"), as_datetime(\"2022-05-25T12:00:00\")))\n",
    "ts_weighing$xmin <- interval(exp_start, ts_weighing$xmin) %>% as.numeric(\"days\")\n",
    "ts_weighing$xmax <- interval(exp_start, ts_weighing$xmax) %>% as.numeric(\"days\")\n",
    "ts_weighing$ymin <- -Inf\n",
    "ts_weighing$ymax <- Inf"
   ]
  },
  {
   "cell_type": "markdown",
   "id": "9ede7194",
   "metadata": {},
   "source": [
    "Behavioural testing:"
   ]
  },
  {
   "cell_type": "code",
   "execution_count": 9,
   "id": "9631e76a",
   "metadata": {
    "name": "events_behaviour",
    "vscode": {
     "languageId": "r"
    }
   },
   "outputs": [],
   "source": [
    "ts_beh <- data.frame(xmin = c(as_datetime(\"2022-05-23T14:00:00\")),\n",
    "                     xmax = c(as_datetime(\"2022-05-26T23:00:00\")))\n",
    "ts_beh$xmin <- interval(exp_start, ts_beh$xmin) %>% as.numeric(\"days\")\n",
    "ts_beh$xmax <- interval(exp_start, ts_beh$xmax) %>% as.numeric(\"days\")\n",
    "ts_beh$ymin <- -Inf\n",
    "ts_beh$ymax <- Inf"
   ]
  },
  {
   "cell_type": "markdown",
   "id": "acd78083",
   "metadata": {},
   "source": [
    "## Statistical models\n",
    "\n",
    "We will now fit three models, one for each of the three parameters describing the sine of the animals' 24-hour rhythm. We will use the `glmmTMB` package to fit the models, and the `DHARMa` package to perform a visual diagnostic check.\n",
    "\n",
    "Deciding on a model formula is tricky. We recommend [this paper by Santon et al.](https://www.frontiersin.org/articles/10.3389/fevo.2023.1065273/full) to make sure your formula makes sense, but it'd really be best to consult with a biostatistician.\n",
    "\n",
    "### Preparation\n",
    "\n",
    "Here, we define days or time periods of interest. We will be analysing data across eight days, grouped into four time periods of biological interest, with each period containing two consecutive days with stable values of the midline, amplitude, and phase shift, as determined by visual inspection of MIRO The Explorer plots. The periods are:\n",
    "\n",
    "-   `baseline`: Activity before any treatment was administered.\n",
    "-   `after_stz`: Activity after model induction (icv streptozotocin injections).\n",
    "-   `before_beh`: Activity some time after model induction, but before behavioural tests.\n",
    "-   `after_beh`: Activity after behavioural tests.\n",
    "\n",
    "We filter out all other days."
   ]
  },
  {
   "cell_type": "code",
   "execution_count": 10,
   "id": "8708cc55",
   "metadata": {
    "lines_to_next_cell": 2,
    "name": "model_datalabel",
    "vscode": {
     "languageId": "r"
    }
   },
   "outputs": [],
   "source": [
    "model_days <- c(0, 1, 7, 8, 14, 15, 21, 22)\n",
    "model_data <- sine_data %>% filter(n_day %in% model_days)\n",
    "model_data <- model_data %>% mutate(is_baseline = ifelse(n_day < 4, 1, 0))\n",
    "\n",
    "model_data$dayperiod <- NA\n",
    "model_dayperiods <- list(baseline = c(0, 1),\n",
    "                         after_stz = c(7, 8),\n",
    "                         before_beh = c(14, 15),\n",
    "                         after_beh = c(21, 22))\n",
    "for (day_list in names(model_dayperiods)) {\n",
    "  model_data <- model_data %>% mutate(dayperiod = ifelse(n_day %in% model_dayperiods[[day_list]], day_list, dayperiod))\n",
    "}"
   ]
  },
  {
   "cell_type": "markdown",
   "id": "47b65018",
   "metadata": {},
   "source": [
    "We also define human-readable labels for the time periods that will be used in plots."
   ]
  },
  {
   "cell_type": "code",
   "execution_count": 11,
   "id": "41a8dd57",
   "metadata": {
    "name": "model_daylabels",
    "vscode": {
     "languageId": "r"
    }
   },
   "outputs": [],
   "source": [
    "dayperiod_labels <- c(baseline = \"Baseline\",\n",
    "                      after_stz = \"After model induction (early)\",\n",
    "                      before_beh = \"After model induction (late, 1 week)\",\n",
    "                      after_beh = \"After behavioural tests\")"
   ]
  },
  {
   "cell_type": "code",
   "execution_count": 12,
   "id": "29b8b7a9",
   "metadata": {
    "class.source": "fold-hide",
    "message": false,
    "name": "model_dataprep",
    "vscode": {
     "languageId": "r"
    }
   },
   "outputs": [],
   "source": [
    "model_data$is_baseline <- as.factor(model_data$is_baseline)\n",
    "model_data$treatment <- as.factor(model_data$treatment)\n",
    "model_data$dayperiod <- as.factor(model_data$dayperiod)\n",
    "model_data$treatment_dayperiod <- as.factor(paste0(model_data$treatment, \"_\", model_data$dayperiod))\n",
    "treatments <- c(\"ctr\", \"stz\")"
   ]
  },
  {
   "cell_type": "markdown",
   "id": "cedc349e",
   "metadata": {},
   "source": [
    "### Amplitude model\n",
    "\n",
    "#### Model specification"
   ]
  },
  {
   "cell_type": "code",
   "execution_count": 13,
   "id": "d6f4ac3f",
   "metadata": {
    "name": "amplitude_modelspec",
    "vscode": {
     "languageId": "r"
    }
   },
   "outputs": [],
   "source": [
    "model.glmmTMB.amp <- glmmTMB(amplitude ~ treatment*dayperiod + (dayperiod|animal_id), \n",
    "                             REML = T,\n",
    "                             family = gaussian,\n",
    "                             data = model_data)"
   ]
  },
  {
   "cell_type": "markdown",
   "id": "5faf1d3d",
   "metadata": {},
   "source": [
    "#### Model diagnostics"
   ]
  },
  {
   "cell_type": "code",
   "execution_count": 14,
   "id": "acd67ad7",
   "metadata": {
    "name": "amplitude_modeldiag",
    "vscode": {
     "languageId": "r"
    }
   },
   "outputs": [
    {
     "data": {
      "image/png": "[encoded data removed]",
      "text/plain": [
       "Plot with title \"QQ plot residuals\""
      ]
     },
     "metadata": {
      "image/png": {
       "height": 420,
       "width": 420
      }
     },
     "output_type": "display_data"
    }
   ],
   "source": [
    "sim.amp <- simulateResiduals(model.glmmTMB.amp, n = 10000)\n",
    "plot(sim.amp)"
   ]
  },
  {
   "cell_type": "markdown",
   "id": "073bcf92",
   "metadata": {},
   "source": [
    "If this looks okay and nothing is red, we can proceed.\n",
    "\n",
    "#### Estimated means for each group and timeperiod"
   ]
  },
  {
   "cell_type": "code",
   "execution_count": 15,
   "id": "ff5a087f",
   "metadata": {
    "name": "amplitude_emmeans",
    "vscode": {
     "languageId": "r"
    }
   },
   "outputs": [],
   "source": [
    "em.amp <- emmeans(model.glmmTMB.amp, ~treatment*factor(dayperiod))\n",
    "em.amp.df <- as.data.frame(em.amp)"
   ]
  },
  {
   "cell_type": "markdown",
   "id": "74eeb5ab",
   "metadata": {},
   "source": [
    "#### Contrasts between groups at each time period"
   ]
  },
  {
   "cell_type": "code",
   "execution_count": 16,
   "id": "dae151fa",
   "metadata": {
    "name": "amplitude_contrasts_prep",
    "vscode": {
     "languageId": "r"
    }
   },
   "outputs": [],
   "source": [
    "if (\"dayperiod\" %in% colnames(em.amp.df)) {\n",
    "  timecol <- \"dayperiod\"\n",
    "  timeperiods <- names(model_dayperiods)\n",
    "} else if (\"n_day\" %in% colnames(em.amp.df)) {\n",
    "  timecol <- \"n_day\"\n",
    "  timeperiods <- model_days\n",
    "} else {\n",
    "  stop(\"No time column found in emmeans object\")\n",
    "}\n",
    "contrast.grid <- generate_contrast_grid(model.glmmTMB.amp, em.amp.df, \"treatment\", treatments, timecol, timeperiods)"
   ]
  },
  {
   "cell_type": "code",
   "execution_count": 17,
   "id": "98a5d20f",
   "metadata": {
    "name": "amplitude_contrasts",
    "vscode": {
     "languageId": "r"
    }
   },
   "outputs": [],
   "source": [
    "contr.amp <- contrast(em.amp, contrast.grid, adjust=\"holm\")"
   ]
  },
  {
   "cell_type": "markdown",
   "id": "83303029",
   "metadata": {},
   "source": [
    "### MESOR model\n",
    "\n",
    "#### Model specification"
   ]
  },
  {
   "cell_type": "code",
   "execution_count": 18,
   "id": "491c5dd3",
   "metadata": {
    "name": "mesor_modelspec",
    "vscode": {
     "languageId": "r"
    }
   },
   "outputs": [],
   "source": [
    "model.glmmTMB.mesor <- glmmTMB(mesor ~ treatment*dayperiod + (dayperiod|animal_id), \n",
    "                               REML = T,\n",
    "                               dispformula = ~treatment*dayperiod,\n",
    "                               family = gaussian,\n",
    "                               data = model_data)"
   ]
  },
  {
   "cell_type": "markdown",
   "id": "9d249028",
   "metadata": {},
   "source": [
    "#### Model diagnostics"
   ]
  },
  {
   "cell_type": "code",
   "execution_count": 19,
   "id": "34bd8916",
   "metadata": {
    "name": "mesor_modeldiag",
    "vscode": {
     "languageId": "r"
    }
   },
   "outputs": [
    {
     "data": {
      "image/png": "[encoded data removed]",
      "text/plain": [
       "Plot with title \"QQ plot residuals\""
      ]
     },
     "metadata": {
      "image/png": {
       "height": 420,
       "width": 420
      }
     },
     "output_type": "display_data"
    }
   ],
   "source": [
    "sim.mesor <- simulateResiduals(model.glmmTMB.mesor, n = 10000)\n",
    "plot(sim.mesor)"
   ]
  },
  {
   "cell_type": "markdown",
   "id": "36d6b7cc",
   "metadata": {},
   "source": [
    "If this looks okay and nothing is red, we can proceed.\n",
    "\n",
    "#### Estimated means for each group and timeperiod"
   ]
  },
  {
   "cell_type": "code",
   "execution_count": 20,
   "id": "0fc6069f",
   "metadata": {
    "name": "mesor_emmeans",
    "vscode": {
     "languageId": "r"
    }
   },
   "outputs": [],
   "source": [
    "em.mesor <- emmeans(model.glmmTMB.mesor, ~treatment*factor(dayperiod))\n",
    "em.mesor.df <- as.data.frame(em.mesor)"
   ]
  },
  {
   "cell_type": "markdown",
   "id": "45f12a34",
   "metadata": {},
   "source": [
    "#### Contrasts between groups at each time period"
   ]
  },
  {
   "cell_type": "code",
   "execution_count": 21,
   "id": "890688b2",
   "metadata": {
    "name": "mesor_contrasts_prep",
    "vscode": {
     "languageId": "r"
    }
   },
   "outputs": [],
   "source": [
    "if (\"dayperiod\" %in% colnames(em.mesor.df)) {\n",
    "  timecol <- \"dayperiod\"\n",
    "  timeperiods <- names(model_dayperiods)\n",
    "} else if (\"n_day\" %in% colnames(em.mesor.df)) {\n",
    "  timecol <- \"n_day\"\n",
    "  timeperiods <- model_days\n",
    "} else {\n",
    "  stop(\"No time column found in emmeans object\")\n",
    "}\n",
    "contrast.grid <- generate_contrast_grid(model.glmmTMB.amp, em.mesor.df, \"treatment\", treatments, timecol, timeperiods)"
   ]
  },
  {
   "cell_type": "code",
   "execution_count": 22,
   "id": "29818823",
   "metadata": {
    "name": "mesor_contrasts",
    "vscode": {
     "languageId": "r"
    }
   },
   "outputs": [],
   "source": [
    "contr.mesor <- contrast(em.mesor, contrast.grid, adjust=\"holm\", reverse=TRUE)"
   ]
  },
  {
   "cell_type": "markdown",
   "id": "b89d0c44",
   "metadata": {},
   "source": [
    "### Phase model\n",
    "\n",
    "#### Phase correction\n",
    "\n",
    "We have an additional step here. Our phase shift variable is in the `[-\\pi, pi]` range. Our lights on is at \\~06:00, which is ZT=0.\n",
    "\n",
    "A sine without any phase shift:\n",
    "\n",
    "1.  Starts at the MESOR value at ZT=0 (06:00),\n",
    "2.  Climbs to a (positive) peak (zenith) at ZT=6 (12:00, noon),\n",
    "3.  Falls down to the MESOR value again at ZT=12 (18:00, lights turn off),\n",
    "4.  Falls down further and reaches its (negative) through (nadir) at ZT=18 (00:00, midnight),\n",
    "5.  Climbs back to the MESOR value at ZT=24 (06:00), thereby completing its cycle.\n",
    "\n",
    "Since rats are nocturnals, we expect that this will be the opposite, i.e. the expected sine wave of a rat's circadian activity should:\n",
    "\n",
    "1.  Start at the MESOR value at ZT=0 (06:00),\n",
    "2.  Fall to nadir at ZT=6 (12:00, noon),\n",
    "3.  Climb back to MESOR at ZT=12 as the light period comes to an end (18:00, lights turn off),\n",
    "4.  Climb further to zenith at ZT=18 (00:00, midnight),\n",
    "5.  Fall back to MESOR as the dark period comes to an end, reaching MESOR again at ZT=24 (06:00, lights turn on), thereby completing its cycle.\n",
    "\n",
    "Mathematically, this means that the sine has to shift by half a cycle, which is 12 hours, or `pi` radians. A shift by `pi` or `-pi` radians is the same (if you add or subtract 12 hours from midnight, you end up at noon either way), so we expect most phase shift values to be around `pi` or `-pi`. This means our distribution looks like this:"
   ]
  },
  {
   "cell_type": "code",
   "execution_count": 23,
   "id": "247e09ee",
   "metadata": {
    "name": "demo_phase_histogram",
    "vscode": {
     "languageId": "r"
    }
   },
   "outputs": [
    {
     "data": {
      "image/png": "[encoded data removed]",
      "text/plain": [
       "Plot with title \"Phase shift distribution\""
      ]
     },
     "metadata": {
      "image/png": {
       "height": 420,
       "width": 420
      }
     },
     "output_type": "display_data"
    }
   ],
   "source": [
    "hist(model_data$phase, breaks=100, main=\"Phase shift distribution\", xlab=\"Phase shift (radians)\")"
   ]
  },
  {
   "cell_type": "markdown",
   "id": "efb265b4",
   "metadata": {},
   "source": [
    "This is pretty difficult to model, so we apply a correction to put the values into a `[0, 2*pi]` range. We do this by adding `2*pi` to all negative phase values. An illustration of why this works is because a phase shift of `-0.9*pi` is the same as a phase shift of `1.1*pi`, while the positive phase shifts from 0 to pi need to remain the same.\n",
    "\n",
    "This type of visual representation of the data is based on [the work by Hou et al., who have developed the `cosinoRmixedeffects` R package](https://doi.org/10.1186/s12859-021-04463-3)."
   ]
  },
  {
   "cell_type": "code",
   "execution_count": 24,
   "id": "12da4ee4",
   "metadata": {
    "name": "phase_correction",
    "vscode": {
     "languageId": "r"
    }
   },
   "outputs": [],
   "source": [
    "model_data <- model_data %>%\n",
    "  mutate(phase_corr = ifelse(phase < 0, 2*pi+phase, phase))"
   ]
  },
  {
   "cell_type": "markdown",
   "id": "910a6ef7",
   "metadata": {},
   "source": [
    "The resulting histogram looks much better in terms of similarity to commonly modelled distributions:"
   ]
  },
  {
   "cell_type": "code",
   "execution_count": 25,
   "id": "0b8b9435",
   "metadata": {
    "name": "demo_phase_histogram_corr",
    "vscode": {
     "languageId": "r"
    }
   },
   "outputs": [
    {
     "data": {
      "image/png": "[encoded data removed]",
      "text/plain": [
       "Plot with title \"Corrected phase shift distribution\""
      ]
     },
     "metadata": {
      "image/png": {
       "height": 420,
       "width": 420
      }
     },
     "output_type": "display_data"
    }
   ],
   "source": [
    "hist(model_data$phase_corr, breaks=100, main=\"Corrected phase shift distribution\", xlab=\"Corrected phase shift (radians)\")"
   ]
  },
  {
   "cell_type": "markdown",
   "id": "d1fb7093",
   "metadata": {},
   "source": [
    "#### Model specification"
   ]
  },
  {
   "cell_type": "code",
   "execution_count": 26,
   "id": "8cf9ee8a",
   "metadata": {
    "name": "phase_modelspec",
    "vscode": {
     "languageId": "r"
    }
   },
   "outputs": [],
   "source": [
    "model.glmmTMB.phase <- glmmTMB(phase_corr ~ treatment*dayperiod + (1|animal_id), \n",
    "                               REML = T,\n",
    "                               dispformula = ~treatment,\n",
    "                               family = t_family,\n",
    "                               data = model_data)"
   ]
  },
  {
   "cell_type": "markdown",
   "id": "3acf82dd",
   "metadata": {},
   "source": [
    "#### Model diagnostics"
   ]
  },
  {
   "cell_type": "code",
   "execution_count": 27,
   "id": "1fcca223",
   "metadata": {
    "name": "phase_modeldiag",
    "vscode": {
     "languageId": "r"
    }
   },
   "outputs": [
    {
     "data": {
      "image/png": "[encoded data removed]",
      "text/plain": [
       "Plot with title \"QQ plot residuals\""
      ]
     },
     "metadata": {
      "image/png": {
       "height": 420,
       "width": 420
      }
     },
     "output_type": "display_data"
    }
   ],
   "source": [
    "sim.phase <- simulateResiduals(model.glmmTMB.phase, n = 10000)\n",
    "plot(sim.phase)"
   ]
  },
  {
   "cell_type": "markdown",
   "id": "fa5b9aa2",
   "metadata": {},
   "source": [
    "If this looks okay and nothing is red, we can proceed.\n",
    "\n",
    "#### Estimated means for each group and timeperiod"
   ]
  },
  {
   "cell_type": "code",
   "execution_count": 28,
   "id": "408a7b10",
   "metadata": {
    "name": "phase_emmeans",
    "vscode": {
     "languageId": "r"
    }
   },
   "outputs": [],
   "source": [
    "em.phase <- emmeans(model.glmmTMB.phase, ~treatment*factor(dayperiod))\n",
    "em.phase.df <- as.data.frame(em.phase)"
   ]
  },
  {
   "cell_type": "markdown",
   "id": "c416914f",
   "metadata": {},
   "source": [
    "#### Contrasts between groups at each time period"
   ]
  },
  {
   "cell_type": "code",
   "execution_count": 29,
   "id": "dd164881",
   "metadata": {
    "name": "phase_contrasts_prep",
    "vscode": {
     "languageId": "r"
    }
   },
   "outputs": [],
   "source": [
    "if (\"dayperiod\" %in% colnames(em.phase.df)) {\n",
    "  timecol <- \"dayperiod\"\n",
    "  timeperiods <- names(model_dayperiods)\n",
    "} else if (\"n_day\" %in% colnames(em.phase.df)) {\n",
    "  timecol <- \"n_day\"\n",
    "  timeperiods <- model_days\n",
    "} else {\n",
    "  stop(\"No time column found in emmeans object\")\n",
    "}\n",
    "contrast.grid <- generate_contrast_grid(model.glmmTMB.phase, em.phase.df, \"treatment\", treatments, timecol, timeperiods)"
   ]
  },
  {
   "cell_type": "code",
   "execution_count": 30,
   "id": "eaf61580",
   "metadata": {
    "name": "phase_contrasts",
    "vscode": {
     "languageId": "r"
    }
   },
   "outputs": [],
   "source": [
    "contr.phase <- contrast(em.phase, contrast.grid, adjust=\"holm\")"
   ]
  },
  {
   "cell_type": "markdown",
   "id": "695a44b5",
   "metadata": {},
   "source": [
    "#### Estimated zenith (peak activity) times for each group and timeperiod\n",
    "\n",
    "To calculate zenith hours, we simply convert the phase shift output data from radians to hours."
   ]
  },
  {
   "cell_type": "code",
   "execution_count": 31,
   "id": "1d6605d8",
   "metadata": {
    "name": "zenith_estimation",
    "vscode": {
     "languageId": "r"
    }
   },
   "outputs": [],
   "source": [
    "em.peak_hour.df <- em.phase.df %>%\n",
    "  select(c(treatment, dayperiod, emmean, asymp.LCL, asymp.UCL)) %>% \n",
    "  mutate_at(vars(emmean, asymp.LCL, asymp.UCL), phase_to_todpeak)\n",
    "em.peak_hour.df <- em.peak_hour.df %>%\n",
    "  mutate(across(c(emmean, asymp.LCL, asymp.UCL), ~ as_datetime(0) + dhours(.)))"
   ]
  },
  {
   "cell_type": "markdown",
   "id": "223cc2fb",
   "metadata": {},
   "source": [
    "## Plots\n",
    "\n",
    "We will generate comparison plots between the groups for each time period.\n",
    "\n",
    "Here, we can adjust figures' heights and widths."
   ]
  },
  {
   "cell_type": "code",
   "execution_count": 32,
   "id": "06c077ed",
   "metadata": {
    "name": "plot_setup",
    "vscode": {
     "languageId": "r"
    }
   },
   "outputs": [],
   "source": [
    "fig.width <- 4.5\n",
    "fig.height <- 5"
   ]
  },
  {
   "cell_type": "code",
   "execution_count": 33,
   "id": "a5e22639",
   "metadata": {
    "class.source": "fold-hide",
    "name": "plot_getdata",
    "vscode": {
     "languageId": "r"
    }
   },
   "outputs": [],
   "source": [
    "plot_data <- data.frame(treatment=c(),\n",
    "                        dayperiod=c(),\n",
    "                        hour=c(),\n",
    "                        pred_val=c(),\n",
    "                        amplitude=c(),\n",
    "                        mesor=c(),\n",
    "                        phase=c(),\n",
    "                        peak_hour=c())\n",
    "for (dp in names(model_dayperiods)) {\n",
    "  for (tr in treatments) {\n",
    "#    vals <- sine_data.summary %>% filter(n_day == day) %>% filter(treatment == tr)\n",
    "#    peak_hour <- 6-(vals$phase_mean*(24/(2*pi)))\n",
    "#    if (peak_hour < 0) { peak_hour <- 24+peak_hour }\n",
    "    amplitude <- em.amp.df %>% filter(treatment == tr, dayperiod == dp) %>% pull(\"emmean\")\n",
    "    mesor <- em.mesor.df %>% filter(treatment == tr, dayperiod == dp) %>% pull(\"emmean\")\n",
    "    phase <- em.phase.df %>% filter(treatment == tr, dayperiod == dp) %>% pull(\"emmean\")\n",
    "    peak_hour <- 6-(24*phase/(2*pi))\n",
    "    if (peak_hour < 0) { peak_hour <- 24+peak_hour }\n",
    "    hour <- seq(0,24,0.1)\n",
    "    pred_val <- mesor+amplitude*sin((2*pi*hour/24)+phase)\n",
    "    new_row <- data.frame(treatment=tr,\n",
    "                          dayperiod=dp,\n",
    "                          hour=hour,\n",
    "                          pred_val=pred_val,\n",
    "                          amplitude=amplitude,\n",
    "                          mesor=mesor,\n",
    "                          phase=phase,\n",
    "                          peak_hour=peak_hour)\n",
    "    plot_data <- rbind(plot_data, new_row)\n",
    "  }\n",
    "}"
   ]
  },
  {
   "cell_type": "code",
   "execution_count": 34,
   "id": "94abe927",
   "metadata": {
    "class.source": "fold-hide",
    "name": "plot_create",
    "vscode": {
     "languageId": "r"
    }
   },
   "outputs": [],
   "source": [
    "plots <- list()\n",
    "dotplot_title_size <- 10\n",
    "dotplot_axislab_size <- 9\n",
    "simplot_margins <- c(0,0,0,0)\n",
    "dotplot_margins <- c(3,0,0,0)\n",
    "x_limits <- c(-1.5,24)\n",
    "y_limits <- c(-0.8, 0.8)\n",
    "mesor_location <- -1.5\n",
    "for (dp in names(model_dayperiods)) {\n",
    "  plot.summary_curve <- ggplot(plot_data %>% filter(dayperiod == dp), aes(x=hour, y=pred_val)) +\n",
    "    #ggtitle(paste0(\"Reconstructed sine\\n\", dayperiod_labels[[dp]])) +\n",
    "    ggtitle(dayperiod_labels[[dp]]) +\n",
    "    scale_color_discrete(labels=c(\"Control\", \"STZ-icv\"))+\n",
    "    scale_x_continuous(\"ZT (hours)\", breaks = seq(0,24,6), limits=x_limits)+\n",
    "    ylim(y_limits)+\n",
    "    geom_line(aes(color=treatment))+\n",
    "    geom_hline(yintercept=0, linewidth=0.5, color=\"gray75\")+\n",
    "    labs(x=\"ZT (hours)\", y=\"Activity\")+\n",
    "    geom_hline(aes(yintercept=mesor, color=treatment), linetype=2)+\n",
    "    theme_bw()+\n",
    "    theme(legend.position=\"top\",\n",
    "          legend.justification=\"left\",\n",
    "          legend.title=element_blank(),\n",
    "          legend.margin=margin(c(0,0,0,0)),\n",
    "          legend.spacing.x = unit(0, \"mm\"),\n",
    "          legend.spacing.y = unit(0, \"mm\"),\n",
    "          legend.box.margin=margin(0,0,-10,0),\n",
    "          plot.margin = unit(simplot_margins, \"mm\"),\n",
    "          plot.title = element_text(margin = margin(c(0,0,0,0))))+\n",
    "    #theme(plot.title = element_text(size = 12),\n",
    "    #      axis.title = element_text(size = 8))+\n",
    "    geom_segment(aes(x = peak_hour, \n",
    "                     y = mesor+0.01, \n",
    "                     xend = peak_hour, \n",
    "                     yend = mesor+amplitude-0.01,\n",
    "                     color = treatment),\n",
    "                 arrow = arrow(length = unit(0.15, \"cm\"),ends=\"both\"), \n",
    "                 linewidth=0.5, linetype=1)+\n",
    "    geom_segment(aes(x = 24, \n",
    "                     y =  mesor+amplitude,\n",
    "                     xend = peak_hour+0.1, \n",
    "                     yend = mesor+amplitude,\n",
    "                     color = treatment),\n",
    "                 #color = \"gray50\")\n",
    "                 arrow = arrow(length = unit(0.15, \"cm\")), linewidth=0.5, linetype=1)+\n",
    "    geom_segment(aes(x = mesor_location, \n",
    "                     y =  0,\n",
    "                     xend = mesor_location, \n",
    "                     yend = mesor,\n",
    "                     color = treatment),\n",
    "                 #color = \"gray50\")\n",
    "                 arrow = arrow(length = unit(0.15, \"cm\")), linewidth=0.5, linetype=1)\n",
    "  \n",
    "  plot.amp <- ggplot(em.amp.df %>% filter(dayperiod == dp), aes(x=treatment, y=emmean, color=treatment, group=treatment))+\n",
    "    geom_point(stat=\"identity\")+\n",
    "    geom_errorbar(stat=\"identity\", aes(ymin=lower.CL, ymax=upper.CL), width=0.08)+\n",
    "    labs(x=\"\", y=\"Mean \\u00B1 CI (95%)\") + \n",
    "    theme_bw() +\n",
    "    theme(strip.background = element_blank(),\n",
    "          strip.placement = \"outside\",\n",
    "          legend.position = \"none\",\n",
    "          plot.title = element_text(size = dotplot_title_size),\n",
    "          axis.title=element_text(size = dotplot_axislab_size),\n",
    "          plot.margin = unit(dotplot_margins, \"mm\"),\n",
    "          #axis.title.y = element_text(margin = margin(0,-1000,0,0)),\n",
    "          axis.text.x = element_text(angle=45, hjust=1))+\n",
    "    ggtitle(\"Amplitude\")\n",
    "  \n",
    "  plot.mesor <- ggplot(em.mesor.df %>% filter(dayperiod == dp), aes(x=treatment, y=emmean, color=treatment, group=treatment))+\n",
    "    geom_point(stat=\"identity\")+\n",
    "    geom_errorbar(stat=\"identity\", aes(ymin=lower.CL, ymax=upper.CL), width=0.08)+\n",
    "    labs(x=\"\", y=\"\") + \n",
    "    theme_bw() +\n",
    "    theme(strip.background = element_blank(),\n",
    "          strip.placement = \"outside\",\n",
    "          legend.position = \"none\",\n",
    "          plot.title = element_text(size = dotplot_title_size),\n",
    "          axis.title=element_text(size = dotplot_axislab_size),\n",
    "          plot.margin = unit(dotplot_margins, \"mm\"))+\n",
    "    theme(axis.text.x = element_text(angle=45, hjust=1))+\n",
    "    ggtitle(\"Midline\")\n",
    "  \n",
    "  plot.peak_hour <- ggplot(em.peak_hour.df %>% filter(dayperiod == dp), aes(x=treatment, y=emmean, color=treatment, group=treatment))+\n",
    "    geom_point(stat=\"identity\")+\n",
    "    geom_errorbar(stat=\"identity\", aes(ymin=asymp.LCL, ymax=asymp.UCL), width=0.08)+\n",
    "    labs(x=\"\", y=\"\") + \n",
    "    scale_y_datetime(date_labels = \"%H:%M\") +\n",
    "    theme_bw() +\n",
    "    theme(strip.background = element_blank(),\n",
    "          strip.placement = \"outside\",\n",
    "          legend.position = \"none\",\n",
    "          plot.title = element_text(size = dotplot_title_size),\n",
    "          axis.title=element_text(size = dotplot_axislab_size),\n",
    "          plot.margin = unit(dotplot_margins, \"mm\"))+\n",
    "    theme(axis.text.x = element_text(angle=45, hjust=1))+\n",
    "    ggtitle(\"Zenith\")  \n",
    "  \n",
    "  plots[[dp]] <- (plot.summary_curve / (plot.amp | plot.mesor | plot.peak_hour)) +\n",
    "    plot_layout(heights = c(3,2))\n",
    "}"
   ]
  },
  {
   "cell_type": "code",
   "execution_count": 35,
   "id": "ac636614",
   "metadata": {
    "class.source": "fold-hide",
    "fig.height": "#R_CODE#fig.height",
    "fig.width": "#R_CODE#fig.width",
    "name": "plot_show_1",
    "vscode": {
     "languageId": "r"
    }
   },
   "outputs": [
    {
     "data": {
      "image/png": "[encoded data removed]",
      "text/plain": [
       "plot without title"
      ]
     },
     "metadata": {
      "image/png": {
       "height": 420,
       "width": 420
      }
     },
     "output_type": "display_data"
    }
   ],
   "source": [
    "plots[[\"baseline\"]]"
   ]
  },
  {
   "cell_type": "code",
   "execution_count": 36,
   "id": "68952e70",
   "metadata": {
    "class.source": "fold-hide",
    "fig.height": "#R_CODE#fig.height",
    "fig.width": "#R_CODE#fig.width",
    "name": "plot_show_2",
    "vscode": {
     "languageId": "r"
    }
   },
   "outputs": [
    {
     "data": {
      "image/png": "[encoded data removed]",
      "text/plain": [
       "plot without title"
      ]
     },
     "metadata": {
      "image/png": {
       "height": 420,
       "width": 420
      }
     },
     "output_type": "display_data"
    }
   ],
   "source": [
    "plots[[\"after_stz\"]]"
   ]
  },
  {
   "cell_type": "code",
   "execution_count": 37,
   "id": "e96fd21a",
   "metadata": {
    "class.source": "fold-hide",
    "fig.height": "#R_CODE#fig.height",
    "fig.width": "#R_CODE#fig.width",
    "name": "plot_show_3",
    "vscode": {
     "languageId": "r"
    }
   },
   "outputs": [
    {
     "data": {
      "image/png": "[encoded data removed]",
      "text/plain": [
       "plot without title"
      ]
     },
     "metadata": {
      "image/png": {
       "height": 420,
       "width": 420
      }
     },
     "output_type": "display_data"
    }
   ],
   "source": [
    "plots[[\"before_beh\"]]"
   ]
  },
  {
   "cell_type": "code",
   "execution_count": 38,
   "id": "0e19249b",
   "metadata": {
    "class.source": "fold-hide",
    "fig.height": "#R_CODE#fig.height",
    "fig.width": "#R_CODE#fig.width",
    "name": "plot_show_4",
    "vscode": {
     "languageId": "r"
    }
   },
   "outputs": [
    {
     "data": {
      "image/png": "[encoded data removed]",
      "text/plain": [
       "plot without title"
      ]
     },
     "metadata": {
      "image/png": {
       "height": 420,
       "width": 420
      }
     },
     "output_type": "display_data"
    }
   ],
   "source": [
    "plots[[\"after_beh\"]]"
   ]
  },
  {
   "cell_type": "code",
   "execution_count": 39,
   "id": "09199f42",
   "metadata": {
    "name": "plot_show_all",
    "vscode": {
     "languageId": "r"
    }
   },
   "outputs": [],
   "source": [
    "left_col <- wrap_plots(plots[[\"baseline\"]], plot_spacer(), plots[[\"before_beh\"]], ncol=1) + plot_layout(heights = c(1, 0.01, 1))\n",
    "#top_row <- top_row + plot_annotation(theme = theme(plot.margin = margin(0,2,0,0, \"cm\")))\n",
    "right_col <- wrap_plots(plots[[\"after_stz\"]], plot_spacer(), plots[[\"after_beh\"]], ncol=1) + plot_layout(heights = c(1, 0.01, 1))\n",
    "full_grid <- wrap_plots(left_col, plot_spacer(), right_col, ncol=3) + plot_layout(widths = c(1, 0.01, 1))# + plot_annotation(tag_levels = 'A')\n",
    "ggsave(\"3_outputs_R/3-2_StatistiSLAV.png\", plot=full_grid, width=7.55, height=10, dpi=600)"
   ]
  },
  {
   "cell_type": "code",
   "execution_count": 40,
   "id": "1704e757",
   "metadata": {
    "name": "save_contrasts",
    "vscode": {
     "languageId": "r"
    }
   },
   "outputs": [],
   "source": [
    "contr.amp.df <- data.frame(contr.amp)\n",
    "c.a <- left_join(contr.amp.df, data.frame(confint(contr.amp)), by=c(\"contrast\", \"estimate\", \"SE\", \"df\"))\n",
    "contr.mesor.df <- data.frame(contr.mesor)\n",
    "c.m <- left_join(contr.mesor.df, data.frame(confint(contr.mesor)), by=c(\"contrast\", \"estimate\", \"SE\", \"df\"))\n",
    "contr.phase.df <- data.frame(contr.phase)\n",
    "c.p <- left_join(contr.phase.df, data.frame(confint(contr.phase)), by=c(\"contrast\", \"estimate\", \"SE\", \"df\"))\n",
    "library(writexl)\n",
    "write_xlsx(list(\"Amplitude\" = c.a,\n",
    "                \"Midline\" = c.m,\n",
    "                \"Phase\" = c.p),\n",
    "           \"3_outputs_R/3-2_StatistiSLAV_contrasts.xlsx\")"
   ]
  }
 ],
 "metadata": {
  "jupytext": {
   "cell_metadata_filter": "class.source,fig.width,message,fig.height,tags,name,-all",
   "formats": "ipynb,R:percent",
   "main_language": "R"
  },
  "kernelspec": {
   "display_name": "R",
   "language": "R",
   "name": "ir"
  },
  "language_info": {
   "codemirror_mode": "r",
   "file_extension": ".r",
   "mimetype": "text/x-r-source",
   "name": "R",
   "pygments_lexer": "r",
   "version": "4.4.0"
  }
 },
 "nbformat": 4,
 "nbformat_minor": 5
}
