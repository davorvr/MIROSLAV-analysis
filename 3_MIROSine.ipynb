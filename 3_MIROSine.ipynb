{
 "cells": [
  {
   "cell_type": "raw",
   "id": "e4427a58",
   "metadata": {},
   "source": [
    "---\n",
    "title: \"MIROSine\"\n",
    "author: \"Davor Virag\"\n",
    "date: \"2024-05-19\"\n",
    "output: html_notebook\n",
    "---"
   ]
  },
  {
   "cell_type": "markdown",
   "id": "96b0c2d3",
   "metadata": {
    "lines_to_next_cell": 0
   },
   "source": [
    "The objective of MIROSine is to analyse the animals’ circadian rhythm of locomotor activity over the duration of the experiment. Simple periodicity with a defined period (24 hours in the case of a circadian rhythm) is well-described by the sinusoidal function, so a linear model with a sine and cosine term is fitted to the data. The given coefficients are used to calculate the amplitude, midline, and phase of a sine wave describing each sensor's recordings for every day of the experiment. These parameters can then be analysed across groups and time intervals, as will be done by MIRO The Explorer and StatistiSLAV afterwards. More information can be found in the MIROSLAV paper: *insert DOI*\n",
    "\n",
    "## Requirements\n",
    "\n",
    "First, we import the libraries we will require. \n"
   ]
  },
  {
   "cell_type": "code",
   "execution_count": null,
   "id": "fd52fb1b",
   "metadata": {},
   "outputs": [],
   "source": [
    "## ----imports, message=FALSE-------------------------------------------------------\n",
    "library(dplyr)\n",
    "library(lubridate)\n",
    "library(progress)"
   ]
  },
  {
   "cell_type": "markdown",
   "id": "3e1ae481",
   "metadata": {
    "lines_to_next_cell": 0
   },
   "source": [
    "\n",
    "## Import data\n",
    "\n",
    "We import the data we will be working on. We need to define:\n",
    "\n",
    "-   The name of the experiment we want to process,\n",
    "-   The filename of the TidySLAV output,\n",
    "-   The experiment's start and end times.\n"
   ]
  },
  {
   "cell_type": "code",
   "execution_count": null,
   "id": "6bb16eff",
   "metadata": {},
   "outputs": [],
   "source": [
    "## ----experiment_variables---------------------------------------------------------\n",
    "exp_name <- \"mph\"\n",
    "tidydata_filename <- paste0(exp_name, \"-pir-tidy-source1minute-resampled5minutes.parquet\")\n",
    "sinedata_filename <- paste0(exp_name, \"_sine_data.rds\")\n",
    "exp_start <- as_datetime(\"2022-05-07 05:46:00\")\n",
    "exp_end <- as_datetime(\"2022-05-31 17:46:00\")"
   ]
  },
  {
   "cell_type": "markdown",
   "id": "113d80f9",
   "metadata": {
    "lines_to_next_cell": 0
   },
   "source": [
    "\n",
    "Then, we load TidySLAV data.\n"
   ]
  },
  {
   "cell_type": "code",
   "execution_count": null,
   "id": "b5a76012",
   "metadata": {},
   "outputs": [],
   "source": [
    "## ----import_tidydata, echo=FALSE--------------------------------------------------\n",
    "wd <- paste0(getwd(), \"/\")\n",
    "data <- arrow::read_parquet(paste0(wd, \"2_outputs_tidy/\", tidydata_filename))\n",
    "data$ts_recv <- as_datetime(data$ts_recv, tz=\"UTC\")\n",
    "data <- data %>% filter(ts_recv >= as_datetime(exp_start, tz=\"UTC\"))\n",
    "data <- data %>% filter(ts_recv < as_datetime(exp_end, tz=\"UTC\"))\n",
    "data$hourcount <- difftime(data$ts_recv, min(data$ts_recv), units=\"hours\")\n",
    "data$hourcount <- as.numeric(data$hourcount)\n",
    "data$n_day <- data$hourcount %/% 24\n",
    "day_start_decimal <- 5+46/60\n",
    "treatments <- unique(data$treatment)"
   ]
  },
  {
   "cell_type": "markdown",
   "id": "4eeecf8a",
   "metadata": {
    "lines_to_next_cell": 0
   },
   "source": [
    "\n",
    "## Perform the calculations\n",
    "\n",
    "We will now calculate the sine parameters for each sensor's respective daily recordings throughout the experiment.\n"
   ]
  },
  {
   "cell_type": "code",
   "execution_count": null,
   "id": "edce2699",
   "metadata": {},
   "outputs": [],
   "source": [
    "## ----sine_calculation-------------------------------------------------------------\n",
    "sensor_animal_ids <- unique(data$sensor_animal_id)\n",
    "days <- unique(data$n_day)\n",
    "total_model_n <- length(sensor_animal_ids) * length(days) # 3618\n",
    "pb <- progress_bar$new(total = total_model_n)\n",
    "sine_data <- data.frame(\n",
    "  n_day = rep(NA, total_model_n),\n",
    "  amplitude = rep(NA, total_model_n),\n",
    "  mesor = rep(NA, total_model_n),\n",
    "  phase = rep(NA, total_model_n),\n",
    "  peak_hour = rep(NA, total_model_n),\n",
    "  alpha = rep(NA, total_model_n),\n",
    "  beta = rep(NA, total_model_n),\n",
    "  #model=rep(NA, total_model_n),\n",
    "  sensor_id = rep(NA, total_model_n),\n",
    "  animal_id = rep(NA, total_model_n),\n",
    "  sensor_animal_id = rep(NA, total_model_n),\n",
    "  treatment = rep(NA, total_model_n),\n",
    "  date = rep(NA, total_model_n),\n",
    "  ts_start = rep(NA, total_model_n),\n",
    "  ts_end = rep(NA, total_model_n)\n",
    ")\n",
    "sine_models <- list()"
   ]
  },
  {
   "cell_type": "code",
   "execution_count": null,
   "id": "e572c192",
   "metadata": {},
   "outputs": [],
   "source": [
    "i <- 0\n",
    "for (id in sensor_animal_ids) {\n",
    "  sine_models[[id]] <- list()\n",
    "  for (day in days) {\n",
    "    i <- i + 1\n",
    "    data_1day <- data %>%\n",
    "      filter(sensor_animal_id == id) %>%\n",
    "      filter(n_day == day)\n",
    "    n_day <- data_1day$n_day[1]\n",
    "    \n",
    "    sensor_id <- data_1day$sensor_id[1]\n",
    "    animal_id <- data_1day$animal_id[1]\n",
    "    sensor_animal_id <- data_1day$sensor_animal_id[1]\n",
    "    date <- date(min(data_1day$ts_recv))\n",
    "    ts_start <- min(data_1day$ts_recv)\n",
    "    ts_end <- max(data_1day$ts_recv)\n",
    "    treatment <- data_1day$treatment[1]\n",
    "    \n",
    "    model <- lm(miro_value ~ 1 +\n",
    "                  sin(2 * pi * hourcount / 24) +\n",
    "                  cos(2 * pi * hourcount / 24),\n",
    "                data = data_1day)\n",
    "    \n",
    "    ### according to: https://stats.stackexchange.com/questions/77543/how-do-i-get-the-amplitude-and-phase-for-sine-wave-from-lm-summary\n",
    "    intercept <- as.numeric(coef(model)[\"(Intercept)\"])\n",
    "    alpha <- as.numeric(coef(model)[\"sin(2 * pi * hourcount/24)\"])\n",
    "    beta <- as.numeric(coef(model)[\"cos(2 * pi * hourcount/24)\"])\n",
    "    \n",
    "    # get parameters of the sine equation y = A*sin(x + P) + M; x = (2*pi/24)*t\n",
    "    # where: A - amplitude, P - phase, M - mesor\n",
    "    amplitude <- sqrt(alpha ^ 2 + beta ^ 2)\n",
    "    mesor <- intercept\n",
    "    phase <- atan2(beta, alpha)\n",
    "    # since phase is in radians, we use it to instead calculate peak_hour, the\n",
    "    # time of day of peak activity, as a biologically relevant parameter.\n",
    "    # if there is no phase shift, a sine's first, positive amplitude occurs at one\n",
    "    # quarter (pi/2) of the full sine period (2*pi). converting to hours, peak\n",
    "    # activity (when phase=0) occurs at 6 hours from a day's start (05:46+6h = 11:46).\n",
    "    # when we add the phase, if positive, it will offset the peak to the left (earlier),\n",
    "    # and to the right (later) if negative as per the rules of transformation for\n",
    "    # the sine function:\n",
    "    # https://flexbooks.ck12.org/cbook/ck-12-precalculus-concepts-2.0/section/5.6/primary/lesson/phase-shift-of-sinusoidal-functions-pcalc/\n",
    "    # so we convert the phase back from radians to hours, and subtract it from 6\n",
    "    # to get the time of day of peak locomotor activity.\n",
    "    peak_hour <- (day_start_decimal + 6) - (phase * (24 / (2 * pi)))\n",
    "    if (peak_hour < 0) {\n",
    "      peak_hour <- 24 + peak_hour\n",
    "    } else if (peak_hour > 24) {\n",
    "      peak_hour <- peak_hour - 24\n",
    "    }\n",
    "    \n",
    "    sine_data[i, ] <- list(\n",
    "      n_day = n_day,\n",
    "      amplitude = amplitude,\n",
    "      mesor = mesor,\n",
    "      phase = phase,\n",
    "      peak_hour = peak_hour,\n",
    "      alpha = alpha,\n",
    "      beta = beta,\n",
    "      #model=model,\n",
    "      sensor_id = sensor_id,\n",
    "      animal_id = animal_id,\n",
    "      sensor_animal_id = sensor_animal_id,\n",
    "      treatment = treatment,\n",
    "      date = date,\n",
    "      ts_start = ts_start,\n",
    "      ts_end = ts_end\n",
    "    )\n",
    "    sine_models[[sensor_animal_id]][[as.character(n_day)]] <- model\n",
    "    \n",
    "    pb$tick()\n",
    "  }\n",
    "}"
   ]
  },
  {
   "cell_type": "markdown",
   "id": "073f0994",
   "metadata": {
    "lines_to_next_cell": 0
   },
   "source": [
    "\n",
    "We will save two RDS files, one containing the results, and the other containing all of the models.\n"
   ]
  },
  {
   "cell_type": "code",
   "execution_count": null,
   "id": "c4dbf894",
   "metadata": {
    "lines_to_next_cell": 2
   },
   "outputs": [],
   "source": [
    "## ----save_results-----------------------------------------------------------------\n",
    "sine_data.file <- paste0(wd, \"3_outputs_R/\", exp_name, \"_sine_data.rds\")\n",
    "sine_models.file <- paste0(wd, \"3_outputs_R/\", exp_name, \"_sine_models.rds\")\n",
    "dir.create(file.path(wd, \"3_outputs_R\"), showWarnings = FALSE)\n",
    "saveRDS(sine_data, sine_data.file)\n",
    "saveRDS(sine_models, sine_models.file)"
   ]
  }
 ],
 "metadata": {
  "jupytext": {
   "cell_metadata_filter": "-all",
   "encoding": "# -*- coding: utf-8 -*-",
   "formats": "ipynb,R:percent",
   "main_language": "R"
  }
 },
 "nbformat": 4,
 "nbformat_minor": 5
}
